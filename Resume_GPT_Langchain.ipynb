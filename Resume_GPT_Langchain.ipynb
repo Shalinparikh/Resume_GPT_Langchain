{
  "nbformat": 4,
  "nbformat_minor": 0,
  "metadata": {
    "colab": {
      "provenance": []
    },
    "kernelspec": {
      "name": "python3",
      "display_name": "Python 3"
    },
    "language_info": {
      "name": "python"
    }
  },
  "cells": [
    {
      "cell_type": "markdown",
      "source": [
        "# LangChain Version of GPT Resume Seach Tool"
      ],
      "metadata": {
        "id": "z8gRM2Q6lmLW"
      }
    },
    {
      "cell_type": "markdown",
      "source": [
        "## Installs"
      ],
      "metadata": {
        "id": "jv8MZ4iillIG"
      }
    },
    {
      "cell_type": "code",
      "execution_count": null,
      "metadata": {
        "id": "lX0_ze2DI1-C"
      },
      "outputs": [],
      "source": [
        "!python3 -m pip install --upgrade langchain faiss-cpu chromadb openai tiktoken"
      ]
    },
    {
      "cell_type": "code",
      "source": [
        "!pip install pypdf"
      ],
      "metadata": {
        "id": "q2Ed8-fkbl7a"
      },
      "execution_count": null,
      "outputs": []
    },
    {
      "cell_type": "markdown",
      "source": [
        "## Imports and Google Drive Mount"
      ],
      "metadata": {
        "id": "yr-PcJxkXh3j"
      }
    },
    {
      "cell_type": "code",
      "source": [
        "# set up google drive\n",
        "from google.colab import drive\n",
        "drive.mount('/content/drive')"
      ],
      "metadata": {
        "id": "hZ9hIEVVkwXG"
      },
      "execution_count": null,
      "outputs": []
    },
    {
      "cell_type": "code",
      "source": [
        "import os\n",
        "import getpass\n",
        "from langchain.document_loaders import PyPDFLoader, TextLoader\n",
        "from langchain.embeddings.openai import OpenAIEmbeddings\n",
        "from langchain.text_splitter import RecursiveCharacterTextSplitter, CharacterTextSplitter\n",
        "from langchain.chains import ConversationalRetrievalChain, RetrievalQA\n",
        "from langchain.chat_models import ChatOpenAI\n",
        "from langchain.llms import OpenAI"
      ],
      "metadata": {
        "id": "CqfMpSyUgleW"
      },
      "execution_count": null,
      "outputs": []
    },
    {
      "cell_type": "code",
      "source": [
        "import argparse, json, time, datetime, openai\n",
        "from pathlib import Path"
      ],
      "metadata": {
        "id": "uDy_bl8-k09l"
      },
      "execution_count": null,
      "outputs": []
    },
    {
      "cell_type": "code",
      "source": [
        "def set_open_ai_key(env_path=None):\n",
        "  #import json, os\n",
        "  #from pathlib import Path\n",
        "  try:\n",
        "    with open(env_path, \"r\") as f:\n",
        "        env_vars = json.load(f)\n",
        "    os.environ[\"OPENAI_API_KEY\"] = env_vars[\"OPENAI_API_KEY\"]\n",
        "    openai.api_key = os.environ[\"OPENAI_API_KEY\"]\n",
        "    #os.environ['OPENAI_API_KEY'] = getpass.getpass('OpenAI API Key:')\n",
        "    openai.Model.list() #test a random command on the openai API\n",
        "    return True\n",
        "  except Exception as e:\n",
        "    print(e)\n",
        "  return False"
      ],
      "metadata": {
        "id": "oCNd95EKlLSV"
      },
      "execution_count": null,
      "outputs": []
    },
    {
      "cell_type": "markdown",
      "source": [
        "## Setup"
      ],
      "metadata": {
        "id": "n32VQn9nlxtW"
      }
    },
    {
      "cell_type": "code",
      "source": [
        "# setup API key\n",
        "openai_env_path, openai.api_key = None, None\n",
        "cwd = Path.cwd()\n",
        "# resume_path = cwd / \"Resumes\"\n",
        "# resume_path.mkdir(exist_ok=True)\n",
        "\n",
        "openai_env_path = cwd/ \"drive/MyDrive/Colab Notebooks/openai.env\"\n",
        "set_open_ai_key(openai_env_path)"
      ],
      "metadata": {
        "id": "L9zeIWbTlOUz"
      },
      "execution_count": null,
      "outputs": []
    },
    {
      "cell_type": "markdown",
      "source": [
        "## Load and Parse Resume Books"
      ],
      "metadata": {
        "id": "CFVKYyYVrRDK"
      }
    },
    {
      "cell_type": "code",
      "source": [
        "#cwd = Path.cwd()\n",
        "#output_path = cwd / \"drive/MyDrive/Colab Notebooks/Output\""
      ],
      "metadata": {
        "id": "tM9e27fUmf28"
      },
      "execution_count": null,
      "outputs": []
    },
    {
      "cell_type": "code",
      "source": [
        "#Set up document loader for pdf resume books\n",
        "embeddings = OpenAIEmbeddings()\n",
        "resume_path1 = \"/content/drive/MyDrive/Colab Notebooks/resume_books/resume_book_2022.pdf\"\n",
        "resume_path2 = \"/content/drive/MyDrive/Colab Notebooks/resume_books/GDI2022ResumeBook.pdf\""
      ],
      "metadata": {
        "id": "oGC0aYW3goGt"
      },
      "execution_count": null,
      "outputs": []
    },
    {
      "cell_type": "code",
      "source": [
        "def load_resumes(path, skip_pages):\n",
        "  loader = PyPDFLoader(path)\n",
        "  pages = loader.load_and_split()\n",
        "  pages_clean = pages[skip_pages:]\n",
        "  return pages_clean"
      ],
      "metadata": {
        "id": "Iq6yjwSrmQtQ"
      },
      "execution_count": null,
      "outputs": []
    },
    {
      "cell_type": "code",
      "source": [
        "# actual resumes start on page 2 of this pdf compilation\n",
        "r1 = load_resumes(resume_path1, 2)"
      ],
      "metadata": {
        "id": "0hRYBwDHwYut"
      },
      "execution_count": null,
      "outputs": []
    },
    {
      "cell_type": "code",
      "source": [
        "# actual resumes start on page 1 of this pdf compilation\n",
        "r2 = load_resumes(resume_path2, 1)"
      ],
      "metadata": {
        "id": "jRf5565wwlwI"
      },
      "execution_count": null,
      "outputs": []
    },
    {
      "cell_type": "code",
      "source": [
        "r1[0]"
      ],
      "metadata": {
        "id": "Oe_VpfOCw_Ix"
      },
      "execution_count": null,
      "outputs": []
    },
    {
      "cell_type": "code",
      "source": [
        "r1[0].metadata[\"name\"] = \"YIN FU\""
      ],
      "metadata": {
        "id": "BV9h2YP1I-P1"
      },
      "execution_count": null,
      "outputs": []
    },
    {
      "cell_type": "code",
      "source": [
        "r1[1]"
      ],
      "metadata": {
        "id": "s36glM89JtNd"
      },
      "execution_count": null,
      "outputs": []
    },
    {
      "cell_type": "code",
      "source": [
        "r1[0]"
      ],
      "metadata": {
        "id": "NJcmjT84JLBw"
      },
      "execution_count": null,
      "outputs": []
    },
    {
      "cell_type": "code",
      "source": [
        "# combine resume books\n",
        "resumes = r1+r2"
      ],
      "metadata": {
        "id": "j1uplBr4yK-q"
      },
      "execution_count": null,
      "outputs": []
    },
    {
      "cell_type": "code",
      "source": [
        "len(resumes)"
      ],
      "metadata": {
        "id": "ZCfhpUqSyXMG"
      },
      "execution_count": null,
      "outputs": []
    },
    {
      "cell_type": "code",
      "source": [
        "# start with one resume book\n",
        "#loader = PyPDFLoader(resume_path1)\n",
        "#pages = loader.load_and_split()"
      ],
      "metadata": {
        "id": "C9OM776mazMX"
      },
      "execution_count": null,
      "outputs": []
    },
    {
      "cell_type": "code",
      "source": [
        "# actual resumes start on page 2 of this pdf compilation\n",
        "#resumes = pages[2:]"
      ],
      "metadata": {
        "id": "pql0d9xthd7N"
      },
      "execution_count": null,
      "outputs": []
    },
    {
      "cell_type": "markdown",
      "source": [
        "## Chunk Resumes"
      ],
      "metadata": {
        "id": "vlbhc4VmXr9C"
      }
    },
    {
      "cell_type": "code",
      "source": [
        "# split the documents into chunks\n",
        "#text_splitter = CharacterTextSplitter(chunk_size=100, chunk_overlap=0)\n",
        "#texts = text_splitter.split_documents(resumes)"
      ],
      "metadata": {
        "id": "ZrDOxItiFpGc"
      },
      "execution_count": null,
      "outputs": []
    },
    {
      "cell_type": "code",
      "source": [
        "from langchain.text_splitter import RecursiveCharacterTextSplitter"
      ],
      "metadata": {
        "id": "0crC5LkEM9EC"
      },
      "execution_count": null,
      "outputs": []
    },
    {
      "cell_type": "code",
      "source": [
        "text_splitter = RecursiveCharacterTextSplitter(\n",
        "    # Set small chunk size, just to test.\n",
        "    chunk_size = 500,\n",
        "    chunk_overlap  = 0,\n",
        "    length_function = len,\n",
        ")"
      ],
      "metadata": {
        "id": "8PiGiyZuM87r"
      },
      "execution_count": null,
      "outputs": []
    },
    {
      "cell_type": "code",
      "source": [
        "texts = text_splitter.split_documents(resumes)\n",
        "print(texts[0])"
      ],
      "metadata": {
        "id": "Jyo2AZKuM8vB"
      },
      "execution_count": null,
      "outputs": []
    },
    {
      "cell_type": "markdown",
      "source": [
        "## Use Vector Stores to create embeddings and preform similarity search"
      ],
      "metadata": {
        "id": "9TKLn4wRraRk"
      }
    },
    {
      "cell_type": "markdown",
      "source": [
        "to do: figure out which vector store is best to use - FAISS vs Chroma"
      ],
      "metadata": {
        "id": "SabOVPAari7F"
      }
    },
    {
      "cell_type": "code",
      "source": [
        "from langchain.vectorstores import FAISS\n",
        "from langchain.vectorstores import Chroma"
      ],
      "metadata": {
        "id": "4JSHxY4aonll"
      },
      "execution_count": null,
      "outputs": []
    },
    {
      "cell_type": "markdown",
      "source": [
        "### Using FAISS"
      ],
      "metadata": {
        "id": "dg561mQxgxkJ"
      }
    },
    {
      "cell_type": "code",
      "source": [
        "faiss_index = FAISS.from_documents(texts, OpenAIEmbeddings())"
      ],
      "metadata": {
        "id": "Kz6V7RjFove3"
      },
      "execution_count": null,
      "outputs": []
    },
    {
      "cell_type": "code",
      "source": [
        "docs = faiss_index.similarity_search(\"knows statistics\", k=8)"
      ],
      "metadata": {
        "id": "unIyqhefo0GJ"
      },
      "execution_count": null,
      "outputs": []
    },
    {
      "cell_type": "code",
      "source": [
        "for doc in docs:\n",
        "    #print(str(doc.metadata[\"page\"]) + \":\", doc.page_content)\n",
        "    print(str(doc.metadata[\"page\"]) + \":\", doc.page_content[:100] + \":\", str(doc.metadata[\"source\"]))"
      ],
      "metadata": {
        "id": "UjMQgW5VqQAC"
      },
      "execution_count": null,
      "outputs": []
    },
    {
      "cell_type": "code",
      "source": [
        "docs[5]"
      ],
      "metadata": {
        "id": "BNPqAj_QCYpO"
      },
      "execution_count": null,
      "outputs": []
    },
    {
      "cell_type": "markdown",
      "source": [
        "## Call OpenAI to use GPT to answer questions based on Resumes"
      ],
      "metadata": {
        "id": "cGlPzQUAsQJs"
      }
    },
    {
      "cell_type": "code",
      "source": [
        "from langchain.chains.qa_with_sources import load_qa_with_sources_chain"
      ],
      "metadata": {
        "id": "PCqSJdoQqXOA"
      },
      "execution_count": null,
      "outputs": []
    },
    {
      "cell_type": "code",
      "source": [
        "#question = \"Who knows statistics?\"\n",
        "question = \"which resumes have statistics skills?\""
      ],
      "metadata": {
        "id": "g8oGclaEtqTr"
      },
      "execution_count": null,
      "outputs": []
    },
    {
      "cell_type": "code",
      "source": [
        "# test different prompts\n",
        "context = \" Make a table of results from the documents given with columns indicating page and source.\"\n",
        "#context = \" Make a list of the page numbers from the documents given, using the 'page' metadata, remove all duplicates from the list\"\n",
        "#context = \" make a table using the document metadata table with columns: page, source\"\n",
        "#context = \" Make a list from the documents given.\"\n",
        "#context = \" return the document metadata\""
      ],
      "metadata": {
        "id": "JRu44qLy7Nq8"
      },
      "execution_count": null,
      "outputs": []
    },
    {
      "cell_type": "code",
      "source": [
        "# make output in json with the following source, page, knows statistics\n",
        "#context = \" Generate a list of resulting resumes with page numbers and source file information, provide them in JSON format with the following keys: page_id, source_file\"\n",
        "#context = \" Generate a list of resulting resumes with their metadata fields, provide them in JSON format with the following keys: page_id, source_file\"\n",
        "context = \" Provide resulting resumes in JSON format with the following keys from the document metadata fields: page_id, source_file\""
      ],
      "metadata": {
        "id": "2uRsPLyvd2Oe"
      },
      "execution_count": null,
      "outputs": []
    },
    {
      "cell_type": "code",
      "source": [
        "query = question + context\n",
        "print(query)"
      ],
      "metadata": {
        "id": "PlnypD3OAeJ3"
      },
      "execution_count": null,
      "outputs": []
    },
    {
      "cell_type": "code",
      "source": [
        "chain = load_qa_with_sources_chain(OpenAI(temperature=0), chain_type=\"stuff\")"
      ],
      "metadata": {
        "id": "gJoL5zc4BBlx"
      },
      "execution_count": null,
      "outputs": []
    },
    {
      "cell_type": "code",
      "source": [
        "chain({\"input_documents\": docs, \"question\": query}, return_only_outputs=True)"
      ],
      "metadata": {
        "id": "W8hHlzztT66X"
      },
      "execution_count": null,
      "outputs": []
    },
    {
      "cell_type": "code",
      "source": [
        "#best one?\n",
        "chain({\"input_documents\": docs, \"question\": query}, return_only_outputs=True)"
      ],
      "metadata": {
        "id": "I0M8dhKB-PPp"
      },
      "execution_count": null,
      "outputs": []
    },
    {
      "cell_type": "markdown",
      "source": [
        "### Using Chroma"
      ],
      "metadata": {
        "id": "ptuJdNRQg2pZ"
      }
    },
    {
      "cell_type": "code",
      "source": [
        "# chain = load_qa_with_sources_chain(llm=OpenAI(), chain_type=\"stuff\")\n",
        "# chain({\"input_documents\": docs, \"question\": query}, return_source_documents=True)"
      ],
      "metadata": {
        "id": "M9VdPNvrmv_9"
      },
      "execution_count": null,
      "outputs": []
    },
    {
      "cell_type": "code",
      "source": [
        "# db = DeepLake(dataset_path=dataset_path, read_only=True, embedding_function=embeddings)\n",
        "\n",
        "# retriever = db.as_retriever()\n",
        "# retriever.search_kwargs['distance_metric'] = 'cos'\n",
        "# retriever.search_kwargs['k'] = 4\n",
        "\n",
        "# qa = RetrievalQA.from_chain_type(llm=OpenAI(), chain_type=\"stuff\", retriever=retriever, return_source_documents=False)\n",
        "\n",
        "# # What was the restaurant the group was talking about called?\n",
        "# query = input(\"Enter query:\")\n",
        "\n",
        "# # The Hungry Lobster\n",
        "# ans = qa({\"query\": query})\n",
        "\n",
        "# print(ans)"
      ],
      "metadata": {
        "id": "AXuNM4QluA7F"
      },
      "execution_count": null,
      "outputs": []
    },
    {
      "cell_type": "code",
      "source": [
        "# def qa(file, query, chain_type, k):\n",
        "#     # load document\n",
        "#     loader = PyPDFLoader(file)\n",
        "#     documents = loader.load()\n",
        "#     # split the documents into chunks\n",
        "#     text_splitter = CharacterTextSplitter(chunk_size=1000, chunk_overlap=0)\n",
        "#     texts = text_splitter.split_documents(documents)\n",
        "#     # select which embeddings we want to use\n",
        "#     embeddings = OpenAIEmbeddings()\n",
        "#     # create the vectorestore to use as the index\n",
        "#     db = Chroma.from_documents(texts, embeddings)\n",
        "#     # expose this index in a retriever interface\n",
        "#     retriever = db.as_retriever(search_type=\"similarity\", search_kwargs={\"k\": k})\n",
        "#     # create a chain to answer questions\n",
        "#     qa = RetrievalQA.from_chain_type(\n",
        "#         llm=OpenAI(), chain_type=chain_type, retriever=retriever, return_source_documents=True)\n",
        "#     result = qa({\"query\": query})\n",
        "#     print(result['result'])\n",
        "#     return result"
      ],
      "metadata": {
        "id": "thZlkzUysHn2"
      },
      "execution_count": null,
      "outputs": []
    },
    {
      "cell_type": "code",
      "source": [
        "# create the vectorestore to use as the index\n",
        "db = Chroma.from_documents(texts, embeddings)\n",
        "# expose this index in a retriever interface\n",
        "retriever = db.as_retriever(search_type=\"similarity\", search_kwargs={\"k\": 8})"
      ],
      "metadata": {
        "id": "0ATnPHXIE5fp"
      },
      "execution_count": null,
      "outputs": []
    },
    {
      "cell_type": "code",
      "source": [
        "# create a chain to answer questions\n",
        "qa = RetrievalQA.from_chain_type(llm=OpenAI(temperature=0), chain_type=\"stuff\", retriever=retriever, return_source_documents=False)\n",
        "result = qa({\"query\": query})\n",
        "print(result['result'])"
      ],
      "metadata": {
        "id": "fLaENM20FHIk"
      },
      "execution_count": null,
      "outputs": []
    },
    {
      "cell_type": "code",
      "source": [
        "query"
      ],
      "metadata": {
        "id": "rgTmCwGbAwqf"
      },
      "execution_count": null,
      "outputs": []
    },
    {
      "cell_type": "code",
      "source": [
        "# create a chain to answer questions\n",
        "qa = RetrievalQA.from_chain_type(llm=OpenAI(temperature=0), chain_type=\"stuff\", retriever=retriever, return_source_documents=False)\n",
        "result = qa({\"query\": query})\n",
        "print(result['result'])"
      ],
      "metadata": {
        "id": "jPg9eATEIr07"
      },
      "execution_count": null,
      "outputs": []
    },
    {
      "cell_type": "code",
      "source": [
        "# try prompt templates?"
      ],
      "metadata": {
        "id": "7gVEwF3Y-xSq"
      },
      "execution_count": null,
      "outputs": []
    },
    {
      "cell_type": "code",
      "source": [],
      "metadata": {
        "id": "YItbaF6kF1Zf"
      },
      "execution_count": null,
      "outputs": []
    }
  ]
}